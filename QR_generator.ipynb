{
 "cells": [
  {
   "cell_type": "code",
   "execution_count": 1,
   "id": "ebc9e6aa",
   "metadata": {},
   "outputs": [
    {
     "name": "stdout",
     "output_type": "stream",
     "text": [
      "Enter data link to generate QR:\n",
      "https://maps.app.goo.gl/ChL69wbgJLydR89x8\n",
      "\n",
      "Enter file name(png) to save the QR: \n",
      "nida.png\n",
      "\n",
      "Do you want to customize the background color?\n",
      "no\n",
      "\n",
      " QR saved as nida.png\n"
     ]
    }
   ],
   "source": [
    "import qrcode\n",
    "from PIL import Image\n",
    "\n",
    "def qr_generator(link,file_name,fill_color=\"blue\",back_color=\"white\"):\n",
    "    qr=qrcode.QRCode(\n",
    "        version=1,\n",
    "        error_correction=qrcode.constants.ERROR_CORRECT_M,\n",
    "        box_size=10,\n",
    "        border=1,\n",
    "    )\n",
    "    qr.add_data(link)\n",
    "    qr.make(fit=True)\n",
    "    img=qr.make_image(fill=fill_color,back_color=back_color).convert('RGB')\n",
    "    img.save(file_name)\n",
    "    img.show()\n",
    "    print(f\"\\n QR saved as {file_name}\")\n",
    "    \n",
    "    \n",
    "print(\"Enter data link to generate QR:\")\n",
    "link=input()\n",
    "print(\"\\nEnter file name(png) to save the QR: \")\n",
    "file_name=input()\n",
    "print(\"\\nDo you want to customize the background color?\")\n",
    "ans=input()\n",
    "if(ans.lower()==\"yes\"):\n",
    "    print(\"\\nEnter the HEX code for background color:\")\n",
    "    color=input()\n",
    "    qr_generator(link,file_name,back_color=color)\n",
    "else:\n",
    "    qr_generator(link,file_name)"
   ]
  },
  {
   "cell_type": "code",
   "execution_count": 2,
   "id": "56778e47",
   "metadata": {},
   "outputs": [
    {
     "name": "stderr",
     "output_type": "stream",
     "text": [
      "Welcome to the QR Code Generator!\n"
     ]
    },
    {
     "name": "stdout",
     "output_type": "stream",
     "text": [
      "Enter the data link to generate a QR code: https://maps.app.goo.gl/ChL69wbgJLydR89x8\n",
      "Enter the file name (e.g., qr_code.png) to save the QR code: nida.png\n",
      "Do you want to customize the QR code? (yes/no): yes\n",
      "Enter the HEX code or color name for the QR code (default: blue): red\n",
      "Enter the HEX code or color name for the background (default: white): black\n",
      "Enter the box size (default: 10): \n",
      "Enter the border size (default: 1): 2\n"
     ]
    },
    {
     "name": "stderr",
     "output_type": "stream",
     "text": [
      "QR code successfully saved as nida.png\n"
     ]
    }
   ],
   "source": [
    "import qrcode\n",
    "from PIL import Image\n",
    "import logging\n",
    "\n",
    "# Set up logging\n",
    "logging.basicConfig(level=logging.INFO, format=\"%(message)s\")\n",
    "\n",
    "def qr_generator(link, file_name, fill_color=\"blue\", back_color=\"white\", box_size=10, border=1):\n",
    "    \"\"\"\n",
    "    Generates a QR code with customizable properties.\n",
    "\n",
    "    Args:\n",
    "        link (str): The data to encode in the QR code.\n",
    "        file_name (str): The name of the file to save the QR code.\n",
    "        fill_color (str): Foreground color of the QR code.\n",
    "        back_color (str): Background color of the QR code.\n",
    "        box_size (int): Size of each box in the QR code grid.\n",
    "        border (int): Border thickness around the QR code.\n",
    "    \"\"\"\n",
    "    try:\n",
    "        qr = qrcode.QRCode(\n",
    "            version=1,\n",
    "            error_correction=qrcode.constants.ERROR_CORRECT_M,\n",
    "            box_size=box_size,\n",
    "            border=border,\n",
    "        )\n",
    "        qr.add_data(link)\n",
    "        qr.make(fit=True)\n",
    "        img = qr.make_image(fill_color=fill_color, back_color=back_color).convert(\"RGB\")\n",
    "        \n",
    "        img.save(file_name)\n",
    "        logging.info(f\"QR code successfully saved as {file_name}\")\n",
    "        \n",
    "        # Optionally display the QR code\n",
    "        img.show()\n",
    "    except Exception as e:\n",
    "        logging.error(f\"Error generating QR code: {e}\")\n",
    "\n",
    "def main():\n",
    "    logging.info(\"Welcome to the QR Code Generator!\")\n",
    "    \n",
    "    # Get user input\n",
    "    link = input(\"Enter the data link to generate a QR code: \")\n",
    "    file_name = input(\"Enter the file name (e.g., qr_code.png) to save the QR code: \")\n",
    "\n",
    "    # Ask for customization options\n",
    "    customize = input(\"Do you want to customize the QR code? (yes/no): \").strip().lower()\n",
    "    if customize == \"yes\":\n",
    "        fill_color = input(\"Enter the HEX code or color name for the QR code (default: blue): \") or \"blue\"\n",
    "        back_color = input(\"Enter the HEX code or color name for the background (default: white): \") or \"white\"\n",
    "        try:\n",
    "            box_size = int(input(\"Enter the box size (default: 10): \") or \"10\")\n",
    "            border = int(input(\"Enter the border size (default: 1): \") or \"1\")\n",
    "        except ValueError:\n",
    "            logging.warning(\"Invalid size inputs! Using default values.\")\n",
    "            box_size, border = 10, 1\n",
    "    else:\n",
    "        fill_color, back_color, box_size, border = \"blue\", \"white\", 10, 1\n",
    "\n",
    "    # Generate the QR code\n",
    "    qr_generator(link, file_name, fill_color, back_color, box_size, border)\n",
    "\n",
    "if __name__ == \"__main__\":\n",
    "    main()\n"
   ]
  },
  {
   "cell_type": "code",
   "execution_count": null,
   "id": "987404fb",
   "metadata": {},
   "outputs": [],
   "source": []
  },
  {
   "cell_type": "code",
   "execution_count": null,
   "id": "db0e18a6",
   "metadata": {},
   "outputs": [],
   "source": []
  }
 ],
 "metadata": {
  "kernelspec": {
   "display_name": "Python 3 (ipykernel)",
   "language": "python",
   "name": "python3"
  },
  "language_info": {
   "codemirror_mode": {
    "name": "ipython",
    "version": 3
   },
   "file_extension": ".py",
   "mimetype": "text/x-python",
   "name": "python",
   "nbconvert_exporter": "python",
   "pygments_lexer": "ipython3",
   "version": "3.11.5"
  }
 },
 "nbformat": 4,
 "nbformat_minor": 5
}
