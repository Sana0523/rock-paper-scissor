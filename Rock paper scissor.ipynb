{
 "cells": [
  {
   "cell_type": "code",
   "execution_count": 1,
   "id": "2b37c5f6",
   "metadata": {},
   "outputs": [
    {
     "name": "stdout",
     "output_type": "stream",
     "text": [
      "Enter 'r' if your rsponse is rock\n",
      "Enter 'p' if your response is paper\n",
      "Enter 's' if your response is scissor\n",
      "Enter your response: p\n",
      "You loose\n",
      "Enter your response: r\n",
      "You win\n",
      "Enter your response: r\n",
      "You loose\n",
      "Enter your response: s\n",
      "You loose\n",
      "Enter your response: p\n",
      "You win\n"
     ]
    }
   ],
   "source": [
    "def rps(comp,user):\n",
    "    if comp=='r' and user=='s':\n",
    "        return True\n",
    "    elif comp=='s' and user=='p':\n",
    "        return True\n",
    "    elif comp=='p' and user=='r':\n",
    "        return True\n",
    "    else:\n",
    "        return False\n",
    "    \n",
    "\n",
    "import random\n",
    "i=0\n",
    "print(\"\"\"Enter 'r' if your rsponse is rock\n",
    "Enter 'p' if your response is paper\n",
    "Enter 's' if your response is scissor\"\"\")\n",
    "\n",
    "while i<5:\n",
    "    i+=1\n",
    "    g=('r','p','s')\n",
    "    \n",
    "    ran=random.randint(0,2)\n",
    "    comp=g[ran]\n",
    "    \n",
    "    user=input('Enter your response: ')\n",
    "    win=rps(comp,user)\n",
    "    if win:\n",
    "        print('You win')\n",
    "    else:\n",
    "        print('You loose')\n",
    "    "
   ]
  },
  {
   "cell_type": "raw",
   "id": "057787e5",
   "metadata": {},
   "source": []
  }
 ],
 "metadata": {
  "kernelspec": {
   "display_name": "Python 3 (ipykernel)",
   "language": "python",
   "name": "python3"
  },
  "language_info": {
   "codemirror_mode": {
    "name": "ipython",
    "version": 3
   },
   "file_extension": ".py",
   "mimetype": "text/x-python",
   "name": "python",
   "nbconvert_exporter": "python",
   "pygments_lexer": "ipython3",
   "version": "3.11.5"
  }
 },
 "nbformat": 4,
 "nbformat_minor": 5
}
